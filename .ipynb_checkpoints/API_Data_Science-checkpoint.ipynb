{
 "cells": [
  {
   "cell_type": "markdown",
   "metadata": {},
   "source": [
    "# Using APIs and Intro to Machine Learning"
   ]
  },
  {
   "cell_type": "markdown",
   "metadata": {},
   "source": [
    "## Using an API"
   ]
  },
  {
   "cell_type": "code",
   "execution_count": 1,
   "metadata": {},
   "outputs": [],
   "source": [
    "# Importing necessary libraries\n",
    "import urllib\n",
    "import requests\n",
    "import time"
   ]
  },
  {
   "cell_type": "markdown",
   "metadata": {},
   "source": [
    "### Generating random jeopardy questions"
   ]
  },
  {
   "cell_type": "code",
   "execution_count": 3,
   "metadata": {},
   "outputs": [
    {
     "name": "stdout",
     "output_type": "stream",
     "text": [
      "Category: nature\n",
      "Q: Yellow jackets are a social type of this stinging insect\n",
      "A: wasps\n"
     ]
    }
   ],
   "source": [
    "# A function to Display information from a question Dictionary:\n",
    "def display_question(question):\n",
    "    print(\"Category: \" + question[\"category\"][\"title\"])\n",
    "    print(\"Q: \" + question[\"question\"])\n",
    "    time.sleep(7)\n",
    "    print(\"A: \" + question[\"answer\"])\n",
    "\n",
    "\n",
    "# The URL of the API I will be making requests to:\n",
    "url = \"http://jservice.io/api/random\"\n",
    "\n",
    "# Making the URL Request\n",
    "random_question = requests.get(url).json()[0]\n",
    "\n",
    "# Displaying Question\n",
    "display_question(random_question)\n",
    "\n"
   ]
  },
  {
   "cell_type": "markdown",
   "metadata": {},
   "source": [
    "### Finding Song Lyrics"
   ]
  },
  {
   "cell_type": "code",
   "execution_count": 7,
   "metadata": {},
   "outputs": [
    {
     "name": "stdout",
     "output_type": "stream",
     "text": [
      "Title: happy\n",
      "Artist: Pharrell williams\n",
      "Song not found\n"
     ]
    }
   ],
   "source": [
    "# Base URL:\n",
    "base_url = \"https://api.lyrics.ovh/v1/\"\n",
    "\n",
    "# User's input\n",
    "title = input(\"Title: \")\n",
    "artist = input(\"Artist: \")\n",
    "\n",
    "# Create a new url based on users requests:\n",
    "final_url = base_url + artist + '/' + title\n",
    "\n",
    "data = requests.get(final_url).json()\n",
    "\n",
    "# Making sure the API returned a value\n",
    "try:\n",
    "    print(\"\\n\\n\" + data['lyrics'])\n",
    "except KeyError:\n",
    "    print(\"Song not found\")\n",
    "\n",
    "# For requests with optional arguments, look up: urllib.parse.urlencode()"
   ]
  },
  {
   "cell_type": "markdown",
   "metadata": {},
   "source": [
    "## Data Science"
   ]
  },
  {
   "cell_type": "code",
   "execution_count": 8,
   "metadata": {},
   "outputs": [],
   "source": [
    "# Necessary imports:\n",
    "import json\n",
    "import pandas as pd\n",
    "from sklearn.cluster import KMeans\n",
    "import matplotlib.pyplot as plt\n",
    "import numpy as np"
   ]
  },
  {
   "cell_type": "code",
   "execution_count": 9,
   "metadata": {},
   "outputs": [],
   "source": [
    "### K Means Clustering "
   ]
  },
  {
   "cell_type": "code",
   "execution_count": null,
   "metadata": {},
   "outputs": [],
   "source": [
    "url = \"http://jservice.io/api/random\"\n",
    "df = pd.read_json(requests.get(url).json())"
   ]
  }
 ],
 "metadata": {
  "kernelspec": {
   "display_name": "Python 3",
   "language": "python",
   "name": "python3"
  },
  "language_info": {
   "codemirror_mode": {
    "name": "ipython",
    "version": 3
   },
   "file_extension": ".py",
   "mimetype": "text/x-python",
   "name": "python",
   "nbconvert_exporter": "python",
   "pygments_lexer": "ipython3",
   "version": "3.7.0"
  }
 },
 "nbformat": 4,
 "nbformat_minor": 2
}
