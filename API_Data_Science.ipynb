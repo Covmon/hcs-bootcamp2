{
 "cells": [
  {
   "cell_type": "markdown",
   "metadata": {},
   "source": [
    "# Using APIs and Intro to Data Science"
   ]
  },
  {
   "cell_type": "markdown",
   "metadata": {},
   "source": [
    "## Using an API"
   ]
  },
  {
   "cell_type": "code",
   "execution_count": 34,
   "metadata": {},
   "outputs": [],
   "source": [
    "# Importing necessary libraries\n",
    "import urllib\n",
    "import requests\n",
    "import time"
   ]
  },
  {
   "cell_type": "markdown",
   "metadata": {},
   "source": [
    "### Generating random jeopardy questions"
   ]
  },
  {
   "cell_type": "code",
   "execution_count": 40,
   "metadata": {},
   "outputs": [
    {
     "name": "stdout",
     "output_type": "stream",
     "text": [
      "Category: \"g\" force\n",
      "Q: Delivered November 19, 1863, it began, \"Four score and seven years ago...\"\n",
      "A: the Gettysburg Address\n"
     ]
    }
   ],
   "source": [
    "# A function to Display information from a question Dictionary:\n",
    "def display_question(question):\n",
    "    print(\"Category: \" + question[\"category\"][\"title\"])\n",
    "    print(\"Q: \" + question[\"question\"])\n",
    "    time.sleep(5)\n",
    "    print(\"A: \" + question[\"answer\"])\n",
    "\n",
    "\n",
    "# The URL of the API I will be making requests to:\n",
    "url = \"http://jservice.io/api/random\"\n",
    "random_question = requests.get(main_url).json()[0]\n",
    "display_question(random_question)\n",
    "\n"
   ]
  },
  {
   "cell_type": "code",
   "execution_count": 16,
   "metadata": {},
   "outputs": [],
   "source": [
    "#other_url = urllib.parse.urlencode({'address': 'Connor Leggett'})"
   ]
  },
  {
   "cell_type": "code",
   "execution_count": null,
   "metadata": {},
   "outputs": [],
   "source": []
  }
 ],
 "metadata": {
  "kernelspec": {
   "display_name": "Python 3",
   "language": "python",
   "name": "python3"
  },
  "language_info": {
   "codemirror_mode": {
    "name": "ipython",
    "version": 3
   },
   "file_extension": ".py",
   "mimetype": "text/x-python",
   "name": "python",
   "nbconvert_exporter": "python",
   "pygments_lexer": "ipython3",
   "version": "3.7.0"
  }
 },
 "nbformat": 4,
 "nbformat_minor": 2
}
