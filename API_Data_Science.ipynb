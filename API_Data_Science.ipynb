{
 "cells": [
  {
   "cell_type": "markdown",
   "metadata": {},
   "source": [
    "# Using APIs and Intro to Data Science"
   ]
  },
  {
   "cell_type": "markdown",
   "metadata": {},
   "source": [
    "## Using an API"
   ]
  },
  {
   "cell_type": "code",
   "execution_count": 1,
   "metadata": {},
   "outputs": [],
   "source": [
    "# Importing necessary libraries\n",
    "import urllib\n",
    "import requests\n",
    "import time"
   ]
  },
  {
   "cell_type": "markdown",
   "metadata": {},
   "source": [
    "### Generating random jeopardy questions"
   ]
  },
  {
   "cell_type": "code",
   "execution_count": 2,
   "metadata": {},
   "outputs": [
    {
     "name": "stdout",
     "output_type": "stream",
     "text": [
      "Category: sleepyheads\n",
      "Q: He played a narcoleptic drifter in the 1991 film \"My Own Private Idaho\"\n",
      "A: River Phoenix\n"
     ]
    }
   ],
   "source": [
    "# A function to Display information from a question Dictionary:\n",
    "def display_question(question):\n",
    "    print(\"Category: \" + question[\"category\"][\"title\"])\n",
    "    print(\"Q: \" + question[\"question\"])\n",
    "    time.sleep(7)\n",
    "    print(\"A: \" + question[\"answer\"])\n",
    "\n",
    "\n",
    "# The URL of the API I will be making requests to:\n",
    "url = \"http://jservice.io/api/random\"\n",
    "\n",
    "# Making the URL Request\n",
    "random_question = requests.get(url).json()[0]\n",
    "\n",
    "# Displaying Question\n",
    "display_question(random_question)\n",
    "\n"
   ]
  },
  {
   "cell_type": "markdown",
   "metadata": {},
   "source": [
    "### Finding Song Lyrics"
   ]
  },
  {
   "cell_type": "code",
   "execution_count": 15,
   "metadata": {},
   "outputs": [
    {
     "name": "stdout",
     "output_type": "stream",
     "text": [
      "Title: viva la vida\n",
      "Artist: coldplay\n",
      "\n",
      "\n",
      "I used to rule the world\n",
      "Seas would rise when I gave the word\n",
      "Now in the morning I sleep alone\n",
      "Sweep the streets I used to own\n",
      "\n",
      "I used to roll the dice\n",
      "Feel the fear in my enemy's eyes\n",
      "Listen as the crowd would sing\n",
      "\"Now the old king is dead! Long live the king!\"\n",
      "\n",
      "One minute I held the key\n",
      "Next the walls were closed on me\n",
      "And I discovered that my castles stand\n",
      "Upon pillars of salt and pillars of sand\n",
      "\n",
      "I hear Jerusalem bells a-ringing\n",
      "Roman Cavalry choirs are singing\n",
      "Be my mirror, my sword and shield\n",
      "My missionaries in a foreign field\n",
      "\n",
      "For some reason I can't explain\n",
      "Once you'd gone there was never\n",
      "Never an honest word\n",
      "And that was when I ruled the world\n",
      "\n",
      "It was the wicked and wild wind\n",
      "Blew down the doors to let me in\n",
      "Shattered windows and the sound of drums\n",
      "People couldn't believe what I'd become\n",
      "\n",
      "Revolutionaries wait\n",
      "For my head on a silver plate\n",
      "Just a puppet on a lonely string\n",
      "Oh who would ever want to be king?\n",
      "\n",
      "I hear Jerusalem bells a-ringing\n",
      "Roman cavalry choirs are singing\n",
      "Be my mirror, my sword and shield\n",
      "My missionaries in a foreign field\n",
      "\n",
      "For some reason I can't explain\n",
      "I know Saint Peter won't call my name\n",
      "Never an honest word\n",
      "But that was when I ruled the world\n",
      "\n",
      "I hear Jerusalem bells a-ringing\n",
      "Roman cavalry choirs are singing\n",
      "Be my mirror, my sword and shield\n",
      "My missionaries in a foreign field\n",
      "\n",
      "For some reason I can't explain\n",
      "I know Saint Peter won't call my name\n",
      "Never an honest word\n",
      "But that was when I ruled the world\n"
     ]
    }
   ],
   "source": [
    "# Base URL:\n",
    "base_url = \"https://api.lyrics.ovh/v1/\"\n",
    "\n",
    "# User's input\n",
    "title = input(\"Title: \")\n",
    "artist = input(\"Artist: \")\n",
    "\n",
    "# Create a new url based on users requests:\n",
    "final_url = base_url + artist + '/' + title\n",
    "\n",
    "data = requests.get(final_url).json()\n",
    "\n",
    "# Making sure the API returned a value\n",
    "try:\n",
    "    print(\"\\n\\n\" + data['lyrics'])\n",
    "except KeyError:\n",
    "    print(\"Song not found\")\n",
    "\n",
    "#print(urllib.parse.urlencode({'ar': 'Connor Leggett'}))"
   ]
  },
  {
   "cell_type": "code",
   "execution_count": null,
   "metadata": {},
   "outputs": [],
   "source": []
  }
 ],
 "metadata": {
  "kernelspec": {
   "display_name": "Python 3",
   "language": "python",
   "name": "python3"
  },
  "language_info": {
   "codemirror_mode": {
    "name": "ipython",
    "version": 3
   },
   "file_extension": ".py",
   "mimetype": "text/x-python",
   "name": "python",
   "nbconvert_exporter": "python",
   "pygments_lexer": "ipython3",
   "version": "3.7.0"
  }
 },
 "nbformat": 4,
 "nbformat_minor": 2
}
