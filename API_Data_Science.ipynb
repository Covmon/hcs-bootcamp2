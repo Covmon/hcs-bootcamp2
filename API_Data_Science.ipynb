{
 "cells": [
  {
   "cell_type": "markdown",
   "metadata": {},
   "source": [
    "# Using APIs and Intro to Machine Learning\n",
    "#### Connor Leggett"
   ]
  },
  {
   "cell_type": "markdown",
   "metadata": {},
   "source": [
    "## Using an API"
   ]
  },
  {
   "cell_type": "code",
   "execution_count": 1,
   "metadata": {},
   "outputs": [],
   "source": [
    "# Importing necessary libraries\n",
    "import urllib\n",
    "import requests\n",
    "import time"
   ]
  },
  {
   "cell_type": "markdown",
   "metadata": {},
   "source": [
    "### Generating random jeopardy questions"
   ]
  },
  {
   "cell_type": "code",
   "execution_count": 2,
   "metadata": {},
   "outputs": [
    {
     "name": "stdout",
     "output_type": "stream",
     "text": [
      "Category: shakespeare\n",
      "Q: I'm talkin' Shakespeare, Claudio & Isabella...talkin' Pompey...Lucio & the Duke, say hey! to this play\n",
      "A: <i>Measure for Measure</i>\n"
     ]
    }
   ],
   "source": [
    "# A function to Display information from a question Dictionary:\n",
    "def display_question(question):\n",
    "    print(\"Category: \" + question[\"category\"][\"title\"])\n",
    "    print(\"Q: \" + question[\"question\"])\n",
    "    time.sleep(7)\n",
    "    print(\"A: \" + question[\"answer\"])\n",
    "\n",
    "\n",
    "# The URL of the API I will be making requests to:\n",
    "url = \"http://jservice.io/api/random\"\n",
    "\n",
    "# Making the URL Request\n",
    "random_question = requests.get(url).json()[0]\n",
    "\n",
    "# Displaying Question\n",
    "display_question(random_question)\n",
    "\n"
   ]
  },
  {
   "cell_type": "markdown",
   "metadata": {},
   "source": [
    "### Finding Song Lyrics"
   ]
  },
  {
   "cell_type": "code",
   "execution_count": 8,
   "metadata": {},
   "outputs": [
    {
     "name": "stdout",
     "output_type": "stream",
     "text": [
      "Title: this is cs50\n",
      "Artist: David malan\n",
      "Song not found\n"
     ]
    }
   ],
   "source": [
    "# Base URL:\n",
    "base_url = \"https://api.lyrics.ovh/v1/\"\n",
    "\n",
    "# User's input\n",
    "title = input(\"Title: \")\n",
    "artist = input(\"Artist: \")\n",
    "\n",
    "# Create a new url based on users requests:\n",
    "final_url = base_url + artist + '/' + title\n",
    "\n",
    "data = requests.get(final_url).json()\n",
    "\n",
    "# Making sure the API returned a value\n",
    "try:\n",
    "    print(\"\\n\\n\" + data['lyrics'])\n",
    "except KeyError:\n",
    "    print(\"Song not found\")\n",
    "\n",
    "# For requests with optional arguments, look up: urllib.parse.urlencode()"
   ]
  },
  {
   "cell_type": "markdown",
   "metadata": {},
   "source": [
    "## Data Science"
   ]
  },
  {
   "cell_type": "code",
   "execution_count": 4,
   "metadata": {},
   "outputs": [],
   "source": [
    "# Necessary imports:\n",
    "import json\n",
    "import pandas as pd\n",
    "from sklearn.cluster import KMeans\n",
    "import matplotlib.pyplot as plt\n",
    "import numpy as np\n",
    "import random"
   ]
  },
  {
   "cell_type": "markdown",
   "metadata": {},
   "source": [
    "### K Means Clustering "
   ]
  },
  {
   "cell_type": "code",
   "execution_count": 11,
   "metadata": {
    "scrolled": true
   },
   "outputs": [
    {
     "data": {
      "text/plain": [
       "<matplotlib.collections.PathCollection at 0x1a24a80fd0>"
      ]
     },
     "execution_count": 11,
     "metadata": {},
     "output_type": "execute_result"
    },
    {
     "data": {
      "image/png": "[encoded data removed]",
      "text/plain": [
       "<Figure size 360x360 with 1 Axes>"
      ]
     },
     "metadata": {
      "needs_background": "light"
     },
     "output_type": "display_data"
    }
   ],
   "source": [
    "# Creating a pandas dataframe\n",
    "df = pd.DataFrame({\n",
    "    'x': [12, 20, 28, 18, 29, 33, 24, 45, 45, 52, 51, 52, 55, 53, 55, 61, 64, 69, 72],\n",
    "    'y': [39, 36, 30, 52, 54, 46, 55, 59, 63, 70, 66, 63, 58, 23, 14, 8, 19, 7, 24]\n",
    "})\n",
    "\n",
    "# Alternatively, use random datasets\n",
    "\"\"\"\n",
    "rands1 = [random.randint(0,100) for i in range(100)]\n",
    "rands2 = [random.randint(0,100) for i in range(100)]\n",
    "df = pd.DataFrame({\n",
    "    'x': rands1,\n",
    "    'y': rands2\n",
    "})\n",
    "\"\"\"\n",
    "\n",
    "# Using the sklearn KMeans algorithm to group data\n",
    "kmeans = KMeans(n_clusters=2)\n",
    "kmeans.fit(df)\n",
    "\n",
    "# Accessing the central points of each group \n",
    "centroids = kmeans.cluster_centers_\n",
    "\n",
    "# Accessing the labels of each point\n",
    "labels = kmeans.labels_\n",
    "\n",
    "\n",
    "# Plotting the results below\n",
    "fig = plt.figure(figsize=(5, 5))\n",
    "ax = fig.add_subplot(1,1,1)\n",
    "ax.scatter(df['x'], df['y'], c=labels.astype(np.float), edgecolor='k', s=40)\n",
    "\n",
    "    \n",
    "\n"
   ]
  },
  {
   "cell_type": "markdown",
   "metadata": {},
   "source": [
    "### K Nearest Neighbors"
   ]
  },
  {
   "cell_type": "code",
   "execution_count": null,
   "metadata": {},
   "outputs": [],
   "source": []
  },
  {
   "cell_type": "markdown",
   "metadata": {},
   "source": [
    "## Citation\n",
    "\n",
    "@inproceedings{sklearn_api,\n",
    "  author    = {Lars Buitinck and Gilles Louppe and Mathieu Blondel and\n",
    "               Fabian Pedregosa and Andreas Mueller and Olivier Grisel and\n",
    "               Vlad Niculae and Peter Prettenhofer and Alexandre Gramfort\n",
    "               and Jaques Grobler and Robert Layton and Jake VanderPlas and\n",
    "               Arnaud Joly and Brian Holt and Ga{\\\"{e}}l Varoquaux},\n",
    "  title     = {{API} design for machine learning software: experiences from the scikit-learn\n",
    "               project},\n",
    "  booktitle = {ECML PKDD Workshop: Languages for Data Mining and Machine Learning},\n",
    "  year      = {2013},\n",
    "  pages = {108--122},\n",
    "}\n",
    "\n",
    "#### Inspiration for this project came from a similar instructive project created by Johnny Berman that can be found here: github.com/JohnnyBerman/HCS-Data-Science-Bootcamp\n"
   ]
  },
  {
   "cell_type": "code",
   "execution_count": null,
   "metadata": {},
   "outputs": [],
   "source": []
  }
 ],
 "metadata": {
  "kernelspec": {
   "display_name": "Python 3",
   "language": "python",
   "name": "python3"
  },
  "language_info": {
   "codemirror_mode": {
    "name": "ipython",
    "version": 3
   },
   "file_extension": ".py",
   "mimetype": "text/x-python",
   "name": "python",
   "nbconvert_exporter": "python",
   "pygments_lexer": "ipython3",
   "version": "3.7.0"
  }
 },
 "nbformat": 4,
 "nbformat_minor": 2
}
