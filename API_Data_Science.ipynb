{
 "cells": [
  {
   "cell_type": "markdown",
   "metadata": {},
   "source": [
    "# Using APIs and Intro to Machine Learning"
   ]
  },
  {
   "cell_type": "markdown",
   "metadata": {},
   "source": [
    "## Using an API"
   ]
  },
  {
   "cell_type": "code",
   "execution_count": 1,
   "metadata": {},
   "outputs": [],
   "source": [
    "# Importing necessary libraries\n",
    "import urllib\n",
    "import requests\n",
    "import time"
   ]
  },
  {
   "cell_type": "markdown",
   "metadata": {},
   "source": [
    "### Generating random jeopardy questions"
   ]
  },
  {
   "cell_type": "code",
   "execution_count": 3,
   "metadata": {},
   "outputs": [
    {
     "name": "stdout",
     "output_type": "stream",
     "text": [
      "Category: nature\n",
      "Q: Yellow jackets are a social type of this stinging insect\n",
      "A: wasps\n"
     ]
    }
   ],
   "source": [
    "# A function to Display information from a question Dictionary:\n",
    "def display_question(question):\n",
    "    print(\"Category: \" + question[\"category\"][\"title\"])\n",
    "    print(\"Q: \" + question[\"question\"])\n",
    "    time.sleep(7)\n",
    "    print(\"A: \" + question[\"answer\"])\n",
    "\n",
    "\n",
    "# The URL of the API I will be making requests to:\n",
    "url = \"http://jservice.io/api/random\"\n",
    "\n",
    "# Making the URL Request\n",
    "random_question = requests.get(url).json()[0]\n",
    "\n",
    "# Displaying Question\n",
    "display_question(random_question)\n",
    "\n"
   ]
  },
  {
   "cell_type": "markdown",
   "metadata": {},
   "source": [
    "### Finding Song Lyrics"
   ]
  },
  {
   "cell_type": "code",
   "execution_count": 7,
   "metadata": {},
   "outputs": [
    {
     "name": "stdout",
     "output_type": "stream",
     "text": [
      "Title: happy\n",
      "Artist: Pharrell williams\n",
      "Song not found\n"
     ]
    }
   ],
   "source": [
    "# Base URL:\n",
    "base_url = \"https://api.lyrics.ovh/v1/\"\n",
    "\n",
    "# User's input\n",
    "title = input(\"Title: \")\n",
    "artist = input(\"Artist: \")\n",
    "\n",
    "# Create a new url based on users requests:\n",
    "final_url = base_url + artist + '/' + title\n",
    "\n",
    "data = requests.get(final_url).json()\n",
    "\n",
    "# Making sure the API returned a value\n",
    "try:\n",
    "    print(\"\\n\\n\" + data['lyrics'])\n",
    "except KeyError:\n",
    "    print(\"Song not found\")\n",
    "\n",
    "# For requests with optional arguments, look up: urllib.parse.urlencode()"
   ]
  },
  {
   "cell_type": "markdown",
   "metadata": {},
   "source": [
    "## Data Science"
   ]
  },
  {
   "cell_type": "code",
   "execution_count": 55,
   "metadata": {},
   "outputs": [],
   "source": [
    "# Necessary imports:\n",
    "import json\n",
    "import pandas as pd\n",
    "from sklearn.cluster import KMeans\n",
    "import matplotlib.pyplot as plt\n",
    "import numpy as np\n",
    "import random"
   ]
  },
  {
   "cell_type": "code",
   "execution_count": 12,
   "metadata": {},
   "outputs": [],
   "source": [
    "### K Means Clustering "
   ]
  },
  {
   "cell_type": "code",
   "execution_count": 61,
   "metadata": {
    "scrolled": true
   },
   "outputs": [
    {
     "name": "stdout",
     "output_type": "stream",
     "text": [
      "[3 3 3 2 2 2 2 0 0 0 0 0 0 4 4 4 1 1 1]\n",
      "[31, 9, 32, 87, 79, 75, 37, 16, 49, 65, 88, 87, 16, 63, 88, 18, 67, 48, 35, 100, 10, 94, 29, 36, 62, 21, 7, 28, 57, 35, 100, 79, 27, 53, 51, 42, 39, 29, 50, 98, 74, 8, 63, 98, 93, 18, 4, 21, 86, 10, 34, 33, 60, 4, 71, 41, 89, 38, 86, 11, 95, 82, 8, 68, 100, 97, 18, 98, 65, 77, 36, 88, 31, 52, 86, 62, 74, 1, 5, 49, 3, 65, 7, 57, 8, 27, 85, 15, 68, 90, 28, 72, 42, 73, 88, 96, 95, 93, 57, 0]\n"
     ]
    },
    {
     "data": {
      "image/png": "[encoded data removed]",
      "text/plain": [
       "<Figure size 360x360 with 1 Axes>"
      ]
     },
     "metadata": {
      "needs_background": "light"
     },
     "output_type": "display_data"
    }
   ],
   "source": [
    "# Creating a pandas dataframe\n",
    "df = pd.DataFrame({\n",
    "    'x': [12, 20, 28, 18, 29, 33, 24, 45, 45, 52, 51, 52, 55, 53, 55, 61, 64, 69, 72],\n",
    "    'y': [39, 36, 30, 52, 54, 46, 55, 59, 63, 70, 66, 63, 58, 23, 14, 8, 19, 7, 24]\n",
    "})\n",
    "\n",
    "# Alternatively, use random datasets\n",
    "\"\"\"\n",
    "rands1 = [random.randint(0,100) for i in range(100)]\n",
    "rands2 = [random.randint(0,100) for i in range(100)]\n",
    "df = pd.DataFrame({\n",
    "    'x': rands1,\n",
    "    'y': rands2\n",
    "})\n",
    "\"\"\"\n",
    "\n",
    "# Using the sklearn KMeans algorithm to group data\n",
    "kmeans = KMeans(n_clusters=5)\n",
    "kmeans.fit(df)\n",
    "\n",
    "# Accessing the central points of each group \n",
    "centroids = kmeans.cluster_centers_\n",
    "\n",
    "# Accessing the labels of each point\n",
    "labels = kmeans.labels_\n",
    "print(labels)\n",
    "\n",
    "# Plotting the results below\n",
    "fig = plt.figure(figsize=(5, 5))\n",
    "ax = fig.add_subplot(1,1,1)\n",
    "ax.scatter(df['x'], df['y'], c=labels.astype(np.float), edgecolor='k', s=40)\n",
    "print(rands1)\n",
    "    \n",
    "\n"
   ]
  },
  {
   "cell_type": "markdown",
   "metadata": {},
   "source": [
    "## Citation\n",
    "\n",
    "@inproceedings{sklearn_api,\n",
    "  author    = {Lars Buitinck and Gilles Louppe and Mathieu Blondel and\n",
    "               Fabian Pedregosa and Andreas Mueller and Olivier Grisel and\n",
    "               Vlad Niculae and Peter Prettenhofer and Alexandre Gramfort\n",
    "               and Jaques Grobler and Robert Layton and Jake VanderPlas and\n",
    "               Arnaud Joly and Brian Holt and Ga{\\\"{e}}l Varoquaux},\n",
    "  title     = {{API} design for machine learning software: experiences from the scikit-learn\n",
    "               project},\n",
    "  booktitle = {ECML PKDD Workshop: Languages for Data Mining and Machine Learning},\n",
    "  year      = {2013},\n",
    "  pages = {108--122},\n",
    "}"
   ]
  },
  {
   "cell_type": "code",
   "execution_count": null,
   "metadata": {},
   "outputs": [],
   "source": []
  }
 ],
 "metadata": {
  "kernelspec": {
   "display_name": "Python 3",
   "language": "python",
   "name": "python3"
  },
  "language_info": {
   "codemirror_mode": {
    "name": "ipython",
    "version": 3
   },
   "file_extension": ".py",
   "mimetype": "text/x-python",
   "name": "python",
   "nbconvert_exporter": "python",
   "pygments_lexer": "ipython3",
   "version": "3.7.0"
  }
 },
 "nbformat": 4,
 "nbformat_minor": 2
}
