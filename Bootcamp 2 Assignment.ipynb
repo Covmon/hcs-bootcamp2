{
 "cells": [
  {
   "cell_type": "code",
   "execution_count": 1,
   "metadata": {},
   "outputs": [],
   "source": [
    "import urllib\n",
    "import requests\n",
    "import time\n",
    "from flask import Flask, request"
   ]
  },
  {
   "cell_type": "code",
   "execution_count": 2,
   "metadata": {},
   "outputs": [],
   "source": [
    "# Necessary imports:\n",
    "import json\n",
    "import pandas as pd\n",
    "from pandas.plotting import parallel_coordinates\n",
    "from sklearn.cluster import KMeans\n",
    "from sklearn.neighbors import KNeighborsClassifier\n",
    "from sklearn.metrics import confusion_matrix, accuracy_score\n",
    "from sklearn.preprocessing import LabelEncoder\n",
    "from sklearn.model_selection import cross_val_score\n",
    "import matplotlib.pyplot as plt\n",
    "from sklearn.model_selection import train_test_split\n",
    "import numpy as np\n",
    "import random\n",
    "import os\n",
    "import csv\n",
    "\n",
    "# Setting up current directory:\n",
    "CURRENT_DIRECTORY = os.getcwd() "
   ]
  },
  {
   "cell_type": "code",
   "execution_count": 3,
   "metadata": {},
   "outputs": [
    {
     "name": "stdout",
     "output_type": "stream",
     "text": [
      "[[0 1 4 1 0]\n",
      " [0 2 2 1 1]\n",
      " [0 1 5 1 0]\n",
      " ...\n",
      " [0 2 1 0 1]\n",
      " [0 3 2 1 1]\n",
      " [0 3 2 0 0]]\n"
     ]
    }
   ],
   "source": [
    "# Importing data from a csv file\n",
    "\n",
    "# male = 1, female = 0\n",
    "# race A = 0, race B = 1, race C = 2, race D = 3\n",
    "# some hs = 0, high school = 1, some college = 2, associate's = 3, bacherlor's = 4, master's = 5\n",
    "# free/reduced = 0, standard = 1\n",
    "# no prep = 0, completed prep = 1\n",
    "\n",
    "dataset = pd.read_csv(CURRENT_DIRECTORY + \"/StudentsPerformance.csv\")\n",
    "\n",
    "dataset[\"id\"] = range(1000)\n",
    "\n",
    "feature_columns = [\"gender\", \"race\", \"parental_education\", \"lunch\", \"prep\"]\n",
    "X = dataset[feature_columns].values\n",
    "print(X)\n",
    "Y = dataset['score'].values"
   ]
  },
  {
   "cell_type": "code",
   "execution_count": 4,
   "metadata": {},
   "outputs": [
    {
     "data": {
      "text/plain": [
       "KNeighborsClassifier(algorithm='auto', leaf_size=30, metric='minkowski',\n",
       "           metric_params=None, n_jobs=None, n_neighbors=50, p=2,\n",
       "           weights='uniform')"
      ]
     },
     "execution_count": 4,
     "metadata": {},
     "output_type": "execute_result"
    }
   ],
   "source": [
    "# Splitting into training and test datasets\n",
    "X_train, X_test, Y_train, Y_test = train_test_split(X, Y, test_size = 0.3, random_state = 0)\n",
    "\n",
    "# Creating the learning model\n",
    "knn_classifier = KNeighborsClassifier(n_neighbors=50)\n",
    "\n",
    "# Fitting the model with the training data\n",
    "knn_classifier.fit(X_train, Y_train)"
   ]
  },
  {
   "cell_type": "code",
   "execution_count": 5,
   "metadata": {},
   "outputs": [
    {
     "name": "stdout",
     "output_type": "stream",
     "text": [
      "[53 55 54 65 74 82 72 53 76 79 74 58 77 53 60 51 62 61 50 67 61 53 72 83\n",
      " 71 55 59 82 51 75 54 67 46 67 66 53 86 67 72 74 60 54 68 68 68 72 67 65\n",
      " 86 78 53 60 54 67 68 53 53 71 76 53 71 66 74 53 68 57 79 67 82 60 71 71\n",
      " 79 68 71 71 86 79 75 68 67 88 88 68 71 68 71 75 74 78 68 67 58 67 60 67\n",
      " 68 58 46 62 82 71 49 73 53 70 70 61 74 79 74 68 53 86 68 68 48 86 75 82\n",
      " 53 54 75 62 68 66 80 74 76 68 79 60 68 86 67 53 71 65 77 60 71 75 60 67\n",
      " 54 60 54 68 50 60 59 68 66 68 75 65 71 74 77 68 80 77 68 53 66 68 52 67\n",
      " 60 60 77 68 65 68 74 60 65 67 68 60 82 68 48 67 74 79 72 88 78 59 59 67\n",
      " 60 72 60 65 43 68 85 68 71 86 68 77 68 51 75 68 76 61 68 77 54 68 54 53\n",
      " 75 80 55 77 60 79 60 72 60 65 68 79 61 65 51 58 54 67 46 86 74 76 76 65\n",
      " 68 72 72 59 82 68 46 56 86 68 86 67 74 54 60 54 53 74 54 68 67 76 71 80\n",
      " 54 68 71 75 68 77 76 86 60 73 67 60 59 67 72 68 59 67 75 72 82 60 68 50\n",
      " 66 54 68 48 79 59 74 73 74 67 77 53]\n",
      "[ 69  77  45  67  74  73  70  43  89  38  51  64  83  81  54  39  52  86\n",
      "  53  79  63  55  76  61  48  64  58  50  63  82  80  89  89  56  55  85\n",
      "  97  60  71  72  68  57  69  71  79  57  85  61  83  56  39  63  48  57\n",
      "  39  71  52  64  77  61  67  77  50  71  65  64  72  51  66  54  75  84\n",
      "  75  65  57  65  72  70  29  77  78  85  69  83  68  75  65  91  71  55\n",
      "  72  62  61  62  78  71  52  66  62  65  42  87  64  41  77  76  69  59\n",
      "  55  86  68  76  31  54  68  72  80  77  81  59  53  78  91  81  75  56\n",
      "  73  75  71  62  66  67  23  82  84  60  65  65  68  82  72  66  57  60\n",
      "  77  38  41  44  80  88  49  72  95  70  74  80  51  56  56  52  91  50\n",
      "  51  93  65  77  76  70  58  63  57  66  31  64  85  68  69  52  96  79\n",
      "  66  83  68  67  78  68  97 100  73  47  51  60  50  77  58  61  84  80\n",
      "  69  66  76  78  57  93  69  50  78  82  74  70  54  91  57  63  34  69\n",
      "  78  63  56  72  76  66  62  73  64  78  87  61  44  63  44  63  53  48\n",
      "  59  66  71  67  69  58  77  51  79  59  75  72  61  92  63  84  77  83\n",
      "  78  79  41  76  53  87  68  84  62  75  69  73  66  78  75  68  73  71\n",
      "  83  64  52  51  72  69  48  51  77  82  84  64  73  75  70  56  88  70\n",
      "  72  60  84  79  71  59  80  70  74  77  66  54]\n",
      "Accuracy of model: 80.99 %.\n"
     ]
    }
   ],
   "source": [
    "# Making predictions with the test data (This line is also where we would potentially classify new data)\n",
    "Y_pred = knn_classifier.predict(X_test)\n",
    "print(Y_pred)\n",
    "print(Y_test)\n",
    "\n",
    "def accuracy(test, pred):\n",
    "    tot = 0\n",
    "    for pred_score, actual_score in zip(test, pred):\n",
    "        diff = abs(pred_score - actual_score)\n",
    "        acc = diff / float(pred_score)\n",
    "        tot += acc\n",
    "    return 1 - (tot / len(test))\n",
    "\n",
    "# Finding Accuracy:\n",
    "accuracy = accuracy(Y_test, Y_pred)*100\n",
    "print('Accuracy of model: ' + str(round(accuracy, 2)) + ' %.')"
   ]
  },
  {
   "cell_type": "code",
   "execution_count": 6,
   "metadata": {},
   "outputs": [],
   "source": [
    "def make_prediction(X):\n",
    "    Y_pred = knn_classifier.predict(X)\n",
    "    return Y_pred\n",
    "        "
   ]
  },
  {
   "cell_type": "code",
   "execution_count": null,
   "metadata": {},
   "outputs": [
    {
     "name": "stdout",
     "output_type": "stream",
     "text": [
      " * Serving Flask app \"__main__\" (lazy loading)\n",
      " * Environment: production\n",
      "   WARNING: This is a development server. Do not use it in a production deployment.\n",
      "   Use a production WSGI server instead.\n",
      " * Debug mode: off\n"
     ]
    },
    {
     "name": "stderr",
     "output_type": "stream",
     "text": [
      " * Running on http://127.0.0.1:5000/ (Press CTRL+C to quit)\n",
      "127.0.0.1 - - [30/Oct/2019 01:33:00] \"GET /?gender=1&race=0&parental_education=5&lunch=1&prep=1 HTTP/1.1\" 200 -\n",
      "127.0.0.1 - - [30/Oct/2019 01:33:10] \"GET /?gender=1&race=0&parental_education=0&lunch=1&prep=1 HTTP/1.1\" 200 -\n",
      "127.0.0.1 - - [30/Oct/2019 01:33:10] \"GET /favicon.ico HTTP/1.1\" 404 -\n",
      "127.0.0.1 - - [30/Oct/2019 01:33:15] \"GET /?gender=1&race=0&parental_education=0&lunch=1&prep=0 HTTP/1.1\" 200 -\n",
      "127.0.0.1 - - [30/Oct/2019 01:33:15] \"GET /favicon.ico HTTP/1.1\" 404 -\n",
      "127.0.0.1 - - [30/Oct/2019 01:33:19] \"GET /?gender=1&race=0&parental_education=4&lunch=1&prep=0 HTTP/1.1\" 200 -\n",
      "127.0.0.1 - - [30/Oct/2019 01:33:19] \"GET /favicon.ico HTTP/1.1\" 404 -\n",
      "127.0.0.1 - - [30/Oct/2019 01:33:22] \"GET /?gender=1&race=0&parental_education=3&lunch=1&prep=0 HTTP/1.1\" 200 -\n",
      "127.0.0.1 - - [30/Oct/2019 01:33:22] \"GET /favicon.ico HTTP/1.1\" 404 -\n",
      "127.0.0.1 - - [30/Oct/2019 01:33:25] \"GET /?gender=1&race=0&parental_education=2&lunch=1&prep=0 HTTP/1.1\" 200 -\n",
      "127.0.0.1 - - [30/Oct/2019 01:33:25] \"GET /favicon.ico HTTP/1.1\" 404 -\n",
      "127.0.0.1 - - [30/Oct/2019 01:33:28] \"GET /?gender=1&race=0&parental_education=1&lunch=1&prep=0 HTTP/1.1\" 200 -\n",
      "127.0.0.1 - - [30/Oct/2019 01:33:28] \"GET /favicon.ico HTTP/1.1\" 404 -\n",
      "127.0.0.1 - - [30/Oct/2019 01:33:31] \"GET /?gender=1&race=0&parental_education=0&lunch=1&prep=0 HTTP/1.1\" 200 -\n",
      "127.0.0.1 - - [30/Oct/2019 01:33:36] \"GET /?gender=1&race=1&parental_education=0&lunch=1&prep=0 HTTP/1.1\" 200 -\n",
      "127.0.0.1 - - [30/Oct/2019 01:33:36] \"GET /favicon.ico HTTP/1.1\" 404 -\n",
      "127.0.0.1 - - [30/Oct/2019 01:33:40] \"GET /?gender=0&race=1&parental_education=0&lunch=1&prep=0 HTTP/1.1\" 200 -\n",
      "127.0.0.1 - - [30/Oct/2019 01:33:40] \"GET /favicon.ico HTTP/1.1\" 404 -\n",
      "127.0.0.1 - - [30/Oct/2019 01:33:43] \"GET /?gender=0&race=2&parental_education=0&lunch=1&prep=0 HTTP/1.1\" 200 -\n",
      "127.0.0.1 - - [30/Oct/2019 01:33:43] \"GET /favicon.ico HTTP/1.1\" 404 -\n",
      "127.0.0.1 - - [30/Oct/2019 01:33:46] \"GET /?gender=1&race=2&parental_education=0&lunch=1&prep=0 HTTP/1.1\" 200 -\n",
      "127.0.0.1 - - [30/Oct/2019 01:33:46] \"GET /favicon.ico HTTP/1.1\" 404 -\n",
      "127.0.0.1 - - [30/Oct/2019 01:34:48] \"GET /?gender=1&race=2&parental_education=0&lunch=1&prep=1 HTTP/1.1\" 200 -\n",
      "127.0.0.1 - - [30/Oct/2019 01:34:48] \"GET /favicon.ico HTTP/1.1\" 404 -\n",
      "127.0.0.1 - - [30/Oct/2019 01:34:52] \"GET /?gender=1&race=2&parental_education=0&lunch=0&prep=1 HTTP/1.1\" 200 -\n",
      "127.0.0.1 - - [30/Oct/2019 01:34:52] \"GET /favicon.ico HTTP/1.1\" 404 -\n",
      "127.0.0.1 - - [30/Oct/2019 01:34:57] \"GET /?gender=1&race=2&parental_education=5&lunch=1&prep=1 HTTP/1.1\" 200 -\n",
      "127.0.0.1 - - [30/Oct/2019 01:34:57] \"GET /favicon.ico HTTP/1.1\" 404 -\n",
      "127.0.0.1 - - [30/Oct/2019 01:35:00] \"GET /?gender=1&race=3&parental_education=5&lunch=1&prep=1 HTTP/1.1\" 200 -\n",
      "127.0.0.1 - - [30/Oct/2019 01:35:00] \"GET /favicon.ico HTTP/1.1\" 404 -\n",
      "127.0.0.1 - - [30/Oct/2019 01:35:03] \"GET /?gender=0&race=3&parental_education=5&lunch=1&prep=1 HTTP/1.1\" 200 -\n",
      "127.0.0.1 - - [30/Oct/2019 01:35:03] \"GET /favicon.ico HTTP/1.1\" 404 -\n",
      "127.0.0.1 - - [30/Oct/2019 01:35:06] \"GET /?gender=0&race=2&parental_education=5&lunch=1&prep=1 HTTP/1.1\" 200 -\n",
      "127.0.0.1 - - [30/Oct/2019 01:35:06] \"GET /favicon.ico HTTP/1.1\" 404 -\n",
      "127.0.0.1 - - [30/Oct/2019 01:35:09] \"GET /?gender=1&race=2&parental_education=5&lunch=1&prep=1 HTTP/1.1\" 200 -\n",
      "127.0.0.1 - - [30/Oct/2019 01:35:13] \"GET /?gender=1&race=4&parental_education=5&lunch=1&prep=1 HTTP/1.1\" 200 -\n",
      "127.0.0.1 - - [30/Oct/2019 01:35:13] \"GET /favicon.ico HTTP/1.1\" 404 -\n",
      "127.0.0.1 - - [30/Oct/2019 01:35:16] \"GET /?gender=1&race=3&parental_education=5&lunch=1&prep=1 HTTP/1.1\" 200 -\n",
      "127.0.0.1 - - [30/Oct/2019 01:35:19] \"GET /?gender=2&race=3&parental_education=5&lunch=1&prep=1 HTTP/1.1\" 200 -\n",
      "127.0.0.1 - - [30/Oct/2019 01:35:19] \"GET /favicon.ico HTTP/1.1\" 404 -\n",
      "127.0.0.1 - - [30/Oct/2019 01:35:26] \"GET /?gender=1&race=2&parental_education=5&lunch=1&prep=1 HTTP/1.1\" 200 -\n"
     ]
    }
   ],
   "source": [
    "app = Flask(__name__)\n",
    "\n",
    "@app.route(\"/\", methods=['GET'])\n",
    "def predict():\n",
    "    g = int(request.args.get(\"gender\"))\n",
    "    r = int(request.args.get(\"race\"))\n",
    "    pe = int(request.args.get(\"parental_education\"))\n",
    "    l = int(request.args.get(\"lunch\"))\n",
    "    pr = int(request.args.get(\"prep\"))\n",
    "    \n",
    "    X = [[g,r,pe,l,pr]]\n",
    "    ans = 0\n",
    "    \n",
    "    pred = make_prediction(X)\n",
    "    for score in pred:\n",
    "        ans = int(score)\n",
    "    return str(\"This person is predicted to score \" + str(ans))\n",
    "    \n",
    "app.run()\n",
    "# male = 1, female = 0\n",
    "# race A = 0, race B = 1, race C = 2, race D = 3\n",
    "# some hs = 0, high school = 1, some college = 2, associate's = 3, bacherlor's = 4, master's = 5\n",
    "# free/reduced = 0, standard = 1\n",
    "# no prep = 0, completed prep = 1\n",
    "\n",
    "# Example:\n",
    "# http://127.0.0.1:5000/?gender=1&race=2&parental_education=5&lunch=1&prep=1\n",
    "# Scores a projected 86"
   ]
  },
  {
   "cell_type": "code",
   "execution_count": null,
   "metadata": {},
   "outputs": [],
   "source": []
  },
  {
   "cell_type": "code",
   "execution_count": null,
   "metadata": {},
   "outputs": [],
   "source": []
  }
 ],
 "metadata": {
  "kernelspec": {
   "display_name": "Python 2",
   "language": "python",
   "name": "python2"
  },
  "language_info": {
   "codemirror_mode": {
    "name": "ipython",
    "version": 2
   },
   "file_extension": ".py",
   "mimetype": "text/x-python",
   "name": "python",
   "nbconvert_exporter": "python",
   "pygments_lexer": "ipython2",
   "version": "2.7.16"
  }
 },
 "nbformat": 4,
 "nbformat_minor": 2
}
